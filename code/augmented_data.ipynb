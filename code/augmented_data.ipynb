{
 "cells": [
  {
   "cell_type": "markdown",
   "metadata": {
    "colab_type": "text",
    "id": "Pj2kEtlTbFSH"
   },
   "source": [
    " Importing data and libraries"
   ]
  },
  {
   "cell_type": "code",
   "execution_count": 1,
   "metadata": {
    "colab": {},
    "colab_type": "code",
    "id": "IYFKUV8ZOc4X"
   },
   "outputs": [
    {
     "name": "stderr",
     "output_type": "stream",
     "text": [
      "Using TensorFlow backend.\n",
      "/Users/ethan/opt/anaconda3/lib/python3.7/site-packages/tensorflow/python/framework/dtypes.py:526: FutureWarning: Passing (type, 1) or '1type' as a synonym of type is deprecated; in a future version of numpy, it will be understood as (type, (1,)) / '(1,)type'.\n",
      "  _np_qint8 = np.dtype([(\"qint8\", np.int8, 1)])\n",
      "/Users/ethan/opt/anaconda3/lib/python3.7/site-packages/tensorflow/python/framework/dtypes.py:527: FutureWarning: Passing (type, 1) or '1type' as a synonym of type is deprecated; in a future version of numpy, it will be understood as (type, (1,)) / '(1,)type'.\n",
      "  _np_quint8 = np.dtype([(\"quint8\", np.uint8, 1)])\n",
      "/Users/ethan/opt/anaconda3/lib/python3.7/site-packages/tensorflow/python/framework/dtypes.py:528: FutureWarning: Passing (type, 1) or '1type' as a synonym of type is deprecated; in a future version of numpy, it will be understood as (type, (1,)) / '(1,)type'.\n",
      "  _np_qint16 = np.dtype([(\"qint16\", np.int16, 1)])\n",
      "/Users/ethan/opt/anaconda3/lib/python3.7/site-packages/tensorflow/python/framework/dtypes.py:529: FutureWarning: Passing (type, 1) or '1type' as a synonym of type is deprecated; in a future version of numpy, it will be understood as (type, (1,)) / '(1,)type'.\n",
      "  _np_quint16 = np.dtype([(\"quint16\", np.uint16, 1)])\n",
      "/Users/ethan/opt/anaconda3/lib/python3.7/site-packages/tensorflow/python/framework/dtypes.py:530: FutureWarning: Passing (type, 1) or '1type' as a synonym of type is deprecated; in a future version of numpy, it will be understood as (type, (1,)) / '(1,)type'.\n",
      "  _np_qint32 = np.dtype([(\"qint32\", np.int32, 1)])\n",
      "/Users/ethan/opt/anaconda3/lib/python3.7/site-packages/tensorflow/python/framework/dtypes.py:535: FutureWarning: Passing (type, 1) or '1type' as a synonym of type is deprecated; in a future version of numpy, it will be understood as (type, (1,)) / '(1,)type'.\n",
      "  np_resource = np.dtype([(\"resource\", np.ubyte, 1)])\n"
     ]
    }
   ],
   "source": [
    "import numpy as np\n",
    "import pandas as pd\n",
    "import matplotlib.pyplot as plt\n",
    "import seaborn as sns\n",
    "from tqdm import tqdm\n",
    "import re\n",
    "from sklearn.model_selection import train_test_split, cross_val_score, StratifiedKFold \n",
    "from sklearn.preprocessing import LabelEncoder\n",
    "from sklearn.metrics import precision_score, recall_score, accuracy_score, f1_score, confusion_matrix\n",
    "from keras.preprocessing.text import Tokenizer\n",
    "from keras.preprocessing import sequence\n",
    "from keras.utils import to_categorical\n",
    "from keras import optimizers\n",
    "from keras.models import Sequential, Model\n",
    "from keras.layers import LSTM, SpatialDropout1D, Activation, GlobalAveragePooling1D, Dense, Input, Dropout, Embedding, Conv1D, MaxPooling1D, GlobalMaxPooling1D\n",
    "from sklearn.linear_model import LogisticRegression\n",
    "from sklearn.feature_extraction.text import TfidfVectorizer\n",
    "from scipy.sparse import hstack\n",
    "from sklearn.metrics import ConfusionMatrixDisplay\n",
    "import random\n",
    "import os\n",
    "%matplotlib inline\n",
    "\n",
    "import warnings\n",
    "warnings.filterwarnings('ignore')"
   ]
  },
  {
   "cell_type": "code",
   "execution_count": 2,
   "metadata": {
    "colab": {},
    "colab_type": "code",
    "id": "ttSZ2DcWrj5J"
   },
   "outputs": [
    {
     "data": {
      "text/plain": [
       "'2.3.1'"
      ]
     },
     "execution_count": 2,
     "metadata": {},
     "output_type": "execute_result"
    }
   ],
   "source": [
    "import keras\n",
    "keras.__version__"
   ]
  },
  {
   "cell_type": "code",
   "execution_count": 18,
   "metadata": {
    "colab": {},
    "colab_type": "code",
    "id": "1ZxAtymmOufT"
   },
   "outputs": [],
   "source": [
    "# Load dataset\n",
    "def load_data():\n",
    "  data=pd.read_csv('/Users/ethan/py3tf/project_nlp/train_data_hs.csv')\n",
    "  data=data.drop('Unnamed: 0', axis=1)\n",
    "  return data"
   ]
  },
  {
   "cell_type": "code",
   "execution_count": 19,
   "metadata": {},
   "outputs": [
    {
     "name": "stdout",
     "output_type": "stream",
     "text": [
      "/Users/ethan/py3tf\n"
     ]
    }
   ],
   "source": [
    "print(os.getcwd())"
   ]
  },
  {
   "cell_type": "code",
   "execution_count": 20,
   "metadata": {
    "colab": {},
    "colab_type": "code",
    "id": "uGMySd7rSR4L"
   },
   "outputs": [],
   "source": [
    "label={0:'hate_speech', 1:'offensive_language', 2:'neither'}"
   ]
  },
  {
   "cell_type": "code",
   "execution_count": 21,
   "metadata": {
    "colab": {},
    "colab_type": "code",
    "id": "THno6BlJRS4i"
   },
   "outputs": [],
   "source": [
    "# Plot data by target class\n",
    "def plot(data):\n",
    "  sns.countplot(data['class'])\n",
    "  plt.xlabel('Class')\n",
    "  plt.title('Distribution of data in each class')\n",
    "  plt.ylabel('Count')\n",
    "  plt.show()"
   ]
  },
  {
   "cell_type": "markdown",
   "metadata": {
    "colab_type": "text",
    "id": "_N85T_YU7GjP"
   },
   "source": [
    "### Creating EDA functions"
   ]
  },
  {
   "cell_type": "code",
   "execution_count": 22,
   "metadata": {
    "scrolled": true
   },
   "outputs": [
    {
     "name": "stdout",
     "output_type": "stream",
     "text": [
      "16852\n"
     ]
    }
   ],
   "source": [
    "data = load_data()\n",
    "data.head()\n",
    "print(len(data))"
   ]
  },
  {
   "cell_type": "code",
   "execution_count": 13,
   "metadata": {},
   "outputs": [
    {
     "data": {
      "text/plain": [
       "0 words:       1\n",
       "1 words:     123\n",
       "10 words:    927\n",
       "11 words:    909\n",
       "12 words:    809\n",
       "13 words:    782\n",
       "14 words:    721\n",
       "15 words:    660\n",
       "16 words:    644\n",
       "17 words:    642\n",
       "18 words:    609\n",
       "19 words:    556\n",
       "2 words:     314\n",
       "20 words:    514\n",
       "21 words:    460\n",
       "22 words:    508\n",
       "23 words:    435\n",
       "24 words:    392\n",
       "25 words:    349\n",
       "26 words:    259\n",
       "27 words:    212\n",
       "28 words:    131\n",
       "29 words:     96\n",
       "3 words:     467\n",
       "30 words:     65\n",
       "31 words:     38\n",
       "32 words:     13\n",
       "33 words:      4\n",
       "34 words:      1\n",
       "4 words:     689\n",
       "5 words:     815\n",
       "6 words:     912\n",
       "7 words:     923\n",
       "8 words:     938\n",
       "9 words:     934\n",
       "Name: tweet, dtype: int64"
      ]
     },
     "execution_count": 13,
     "metadata": {},
     "output_type": "execute_result"
    }
   ],
   "source": [
    "count = data['tweet'].str.split().apply(len).value_counts()\n",
    "count.index = count.index.astype(str) + ' words:'\n",
    "count.sort_index(inplace=True)\n",
    "count"
   ]
  },
  {
   "cell_type": "code",
   "execution_count": null,
   "metadata": {},
   "outputs": [],
   "source": [
    "df['totalwords'] = [len(x.split()) for x in df['col'].tolist()]"
   ]
  },
  {
   "cell_type": "code",
   "execution_count": 50,
   "metadata": {},
   "outputs": [
    {
     "data": {
      "text/html": [
       "<div>\n",
       "<style scoped>\n",
       "    .dataframe tbody tr th:only-of-type {\n",
       "        vertical-align: middle;\n",
       "    }\n",
       "\n",
       "    .dataframe tbody tr th {\n",
       "        vertical-align: top;\n",
       "    }\n",
       "\n",
       "    .dataframe thead th {\n",
       "        text-align: right;\n",
       "    }\n",
       "</style>\n",
       "<table border=\"1\" class=\"dataframe\">\n",
       "  <thead>\n",
       "    <tr style=\"text-align: right;\">\n",
       "      <th></th>\n",
       "      <th>class</th>\n",
       "      <th>tweet</th>\n",
       "    </tr>\n",
       "  </thead>\n",
       "  <tbody>\n",
       "    <tr>\n",
       "      <td>0</td>\n",
       "      <td>0</td>\n",
       "      <td>I hate when faggots talk shit on here then b...</td>\n",
       "    </tr>\n",
       "    <tr>\n",
       "      <td>1</td>\n",
       "      <td>1</td>\n",
       "      <td>Dumb bitch</td>\n",
       "    </tr>\n",
       "    <tr>\n",
       "      <td>2</td>\n",
       "      <td>1</td>\n",
       "      <td>lets record a song bitch right nowb</td>\n",
       "    </tr>\n",
       "    <tr>\n",
       "      <td>3</td>\n",
       "      <td>1</td>\n",
       "      <td>I m a joke having hoes ain t shit  I m just...</td>\n",
       "    </tr>\n",
       "    <tr>\n",
       "      <td>4</td>\n",
       "      <td>2</td>\n",
       "      <td>It s not as easy as you d think to find an a...</td>\n",
       "    </tr>\n",
       "    <tr>\n",
       "      <td>...</td>\n",
       "      <td>...</td>\n",
       "      <td>...</td>\n",
       "    </tr>\n",
       "    <tr>\n",
       "      <td>16847</td>\n",
       "      <td>2</td>\n",
       "      <td>I need to pick between two wigs  The agony    ...</td>\n",
       "    </tr>\n",
       "    <tr>\n",
       "      <td>16848</td>\n",
       "      <td>0</td>\n",
       "      <td>I feel like Tim Ross is a nigger</td>\n",
       "    </tr>\n",
       "    <tr>\n",
       "      <td>16849</td>\n",
       "      <td>0</td>\n",
       "      <td>Horrible rapper    Tyga   Most trash rapper ...</td>\n",
       "    </tr>\n",
       "    <tr>\n",
       "      <td>16850</td>\n",
       "      <td>1</td>\n",
       "      <td>Contrary to belief  us queers don       t go...</td>\n",
       "    </tr>\n",
       "    <tr>\n",
       "      <td>16851</td>\n",
       "      <td>0</td>\n",
       "      <td>it means that im following orders and being su...</td>\n",
       "    </tr>\n",
       "  </tbody>\n",
       "</table>\n",
       "<p>16852 rows × 2 columns</p>\n",
       "</div>"
      ],
      "text/plain": [
       "       class                                              tweet\n",
       "0          0    I hate when faggots talk shit on here then b...\n",
       "1          1                                        Dumb bitch \n",
       "2          1                lets record a song bitch right nowb\n",
       "3          1     I m a joke having hoes ain t shit  I m just...\n",
       "4          2    It s not as easy as you d think to find an a...\n",
       "...      ...                                                ...\n",
       "16847      2  I need to pick between two wigs  The agony    ...\n",
       "16848      0                   I feel like Tim Ross is a nigger\n",
       "16849      0    Horrible rapper    Tyga   Most trash rapper ...\n",
       "16850      1    Contrary to belief  us queers don       t go...\n",
       "16851      0  it means that im following orders and being su...\n",
       "\n",
       "[16852 rows x 2 columns]"
      ]
     },
     "execution_count": 50,
     "metadata": {},
     "output_type": "execute_result"
    }
   ],
   "source": []
  },
  {
   "cell_type": "code",
   "execution_count": 8,
   "metadata": {
    "colab": {},
    "colab_type": "code",
    "id": "hX8zo2doHz91"
   },
   "outputs": [
    {
     "name": "stderr",
     "output_type": "stream",
     "text": [
      "[nltk_data] Downloading package punkt to /Users/ethan/nltk_data...\n",
      "[nltk_data]   Package punkt is already up-to-date!\n",
      "[nltk_data] Downloading package stopwords to /Users/ethan/nltk_data...\n",
      "[nltk_data]   Package stopwords is already up-to-date!\n",
      "[nltk_data] Downloading package wordnet to /Users/ethan/nltk_data...\n",
      "[nltk_data]   Package wordnet is already up-to-date!\n"
     ]
    }
   ],
   "source": [
    "import nltk\n",
    "from nltk.corpus import stopwords\n",
    "nltk.download('punkt')\n",
    "nltk.download('stopwords')\n",
    "nltk.download('wordnet')\n",
    "stop_words = stopwords.words('english')"
   ]
  },
  {
   "cell_type": "code",
   "execution_count": 9,
   "metadata": {
    "colab": {},
    "colab_type": "code",
    "id": "5Zun8_krN9g7"
   },
   "outputs": [],
   "source": [
    "from nltk.corpus import wordnet \n",
    "\n",
    "def synonym_replacement(words, n):\n",
    "\tnew_words = words.copy()\n",
    "\trandom_word_list = list(set([word for word in words if word not in stop_words]))\n",
    "\trandom.shuffle(random_word_list)\n",
    "\tnum_replaced = 0\n",
    "\tfor random_word in random_word_list:\n",
    "\t\tsynonyms = get_synonyms(random_word)\n",
    "\t\tif len(synonyms) >= 1:\n",
    "\t\t\tsynonym = random.choice(list(synonyms))\n",
    "\t\t\tnew_words = [synonym if word == random_word else word for word in new_words]\n",
    "\t\t\t# print(\"replaced\", random_word, \"with\", synonym)\n",
    "\t\t\tnum_replaced += 1\n",
    "\t\tif num_replaced >= n: #only replace up to n words\n",
    "\t\t\tbreak\n",
    "\n",
    "\treturn new_words\n",
    "\n",
    "def get_synonyms(word):\n",
    "\tsynonyms = set()\n",
    "\tfor syn in wordnet.synsets(word): \n",
    "\t\tfor l in syn.lemmas(): \n",
    "\t\t\tsynonym = l.name().replace(\"_\", \" \").replace(\"-\", \" \").lower()\n",
    "\t\t\tsynonym = \"\".join([char for char in synonym if char in ' qwertyuiopasdfghjklzxcvbnm'])\n",
    "\t\t\tsynonyms.add(synonym) \n",
    "\tif word in synonyms:\n",
    "\t\tsynonyms.remove(word)\n",
    "\treturn list(synonyms)\n",
    " "
   ]
  },
  {
   "cell_type": "code",
   "execution_count": 10,
   "metadata": {
    "colab": {},
    "colab_type": "code",
    "id": "iRLNyq_SH0EF"
   },
   "outputs": [],
   "source": [
    "def random_deletion(words, p):\n",
    "\n",
    "\t#if there's only one word, don't delete it\n",
    "\tif len(words) == 1:\n",
    "\t\treturn words\n",
    "\n",
    "\t#randomly delete words with probability p\n",
    "\tnew_words = []\n",
    "\tfor word in words:\n",
    "\t\tr = random.uniform(0, 1)\n",
    "\t\tif r > p:\n",
    "\t\t\tnew_words.append(word)\n",
    "\n",
    "\t#if you end up deleting all words, just return a random word\n",
    "\tif len(new_words) == 0:\n",
    "\t\trand_int = random.randint(0, len(words)-1)\n",
    "\t\treturn [words[rand_int]]\n",
    "\n",
    "\treturn new_words\n"
   ]
  },
  {
   "cell_type": "code",
   "execution_count": 11,
   "metadata": {
    "colab": {},
    "colab_type": "code",
    "id": "ALLbS2_wH0HU"
   },
   "outputs": [],
   "source": [
    "def random_swap(words, n):\n",
    "  sent = \"\"\n",
    "  new_words = words.copy()\n",
    "  for _ in range(n):\n",
    "    new_words = swap_word(new_words)\n",
    "  return new_words\n",
    "\n",
    "def swap_word(new_words):\n",
    "\trandom_idx_1 = random.randint(0, len(new_words)-1)\n",
    "\trandom_idx_2 = random_idx_1\n",
    "\tcounter = 0\n",
    "\twhile random_idx_2 == random_idx_1:\n",
    "\t\trandom_idx_2 = random.randint(0, len(new_words)-1)\n",
    "\t\tcounter += 1\n",
    "\t\tif counter > 3:\n",
    "\t\t\treturn new_words\n",
    "\tnew_words[random_idx_1], new_words[random_idx_2] = new_words[random_idx_2], new_words[random_idx_1] \n",
    "\treturn new_words\n"
   ]
  },
  {
   "cell_type": "code",
   "execution_count": 12,
   "metadata": {
    "colab": {},
    "colab_type": "code",
    "id": "A709a3u_H0MF"
   },
   "outputs": [],
   "source": [
    "def random_addition(words, n):\n",
    "\tnew_words = words.copy()\n",
    "\tfor _ in range(n):\n",
    "\t\tadd_word(new_words)\n",
    "\treturn new_words\n",
    "\n",
    "def add_word(new_words):\n",
    "\tsynonyms = []\n",
    "\tcounter = 0\n",
    "\twhile len(synonyms) < 1:\n",
    "\t\trandom_word = new_words[random.randint(0, len(new_words)-1)]\n",
    "\t\tsynonyms = get_synonyms(random_word)\n",
    "\t\tcounter += 1\n",
    "\t\tif counter >= 10:\n",
    "\t\t\treturn\n",
    "\trandom_synonym = synonyms[0]\n",
    "\trandom_idx = random.randint(0, len(new_words)-1)\n",
    "\tnew_words.insert(random_idx, random_synonym)\n",
    "\n"
   ]
  },
  {
   "cell_type": "code",
   "execution_count": 13,
   "metadata": {},
   "outputs": [
    {
     "data": {
      "image/png": "[encoded data removed]",
      "text/plain": [
       "<Figure size 432x288 with 1 Axes>"
      ]
     },
     "metadata": {
      "needs_background": "light"
     },
     "output_type": "display_data"
    }
   ],
   "source": [
    "plot(data)"
   ]
  },
  {
   "cell_type": "markdown",
   "metadata": {
    "colab_type": "text",
    "id": "GUuEGpIIAcO5"
   },
   "source": [
    "# Augment dataset with EDA Techniques"
   ]
  },
  {
   "cell_type": "markdown",
   "metadata": {},
   "source": [
    "### SR"
   ]
  },
  {
   "cell_type": "code",
   "execution_count": 14,
   "metadata": {
    "colab": {},
    "colab_type": "code",
    "id": "D0HpVCfJOPME"
   },
   "outputs": [
    {
     "data": {
      "text/html": [
       "<div>\n",
       "<style scoped>\n",
       "    .dataframe tbody tr th:only-of-type {\n",
       "        vertical-align: middle;\n",
       "    }\n",
       "\n",
       "    .dataframe tbody tr th {\n",
       "        vertical-align: top;\n",
       "    }\n",
       "\n",
       "    .dataframe thead th {\n",
       "        text-align: right;\n",
       "    }\n",
       "</style>\n",
       "<table border=\"1\" class=\"dataframe\">\n",
       "  <thead>\n",
       "    <tr style=\"text-align: right;\">\n",
       "      <th></th>\n",
       "      <th>class</th>\n",
       "      <th>tweet</th>\n",
       "    </tr>\n",
       "  </thead>\n",
       "  <tbody>\n",
       "    <tr>\n",
       "      <td>0</td>\n",
       "      <td>0</td>\n",
       "      <td>single hatred when fairy speak turd on here th...</td>\n",
       "    </tr>\n",
       "    <tr>\n",
       "      <td>1</td>\n",
       "      <td>1</td>\n",
       "      <td>dull grouse</td>\n",
       "    </tr>\n",
       "    <tr>\n",
       "      <td>2</td>\n",
       "      <td>1</td>\n",
       "      <td>net ball criminal record a call gripe veraciou...</td>\n",
       "    </tr>\n",
       "    <tr>\n",
       "      <td>3</td>\n",
       "      <td>1</td>\n",
       "      <td>single m a antic having hoe ain t shitI m just...</td>\n",
       "    </tr>\n",
       "    <tr>\n",
       "      <td>4</td>\n",
       "      <td>2</td>\n",
       "      <td>information technology s not as soft as you d ...</td>\n",
       "    </tr>\n",
       "  </tbody>\n",
       "</table>\n",
       "</div>"
      ],
      "text/plain": [
       "   class                                              tweet\n",
       "0      0  single hatred when fairy speak turd on here th...\n",
       "1      1                                        dull grouse\n",
       "2      1  net ball criminal record a call gripe veraciou...\n",
       "3      1  single m a antic having hoe ain t shitI m just...\n",
       "4      2  information technology s not as soft as you d ..."
      ]
     },
     "execution_count": 14,
     "metadata": {},
     "output_type": "execute_result"
    }
   ],
   "source": [
    "n = 9\n",
    "data_sr = data.copy(deep=True)\n",
    "for m,i in enumerate(data['tweet']):\n",
    "  i = i.replace('  ', '')\n",
    "  j = nltk.word_tokenize(i)\n",
    "  data_sr['tweet'][m] = ' '.join(synonym_replacement(j, n))\n",
    "\n",
    "data_sr.head()"
   ]
  },
  {
   "cell_type": "code",
   "execution_count": 15,
   "metadata": {},
   "outputs": [
    {
     "name": "stdout",
     "output_type": "stream",
     "text": [
      "0        0\n",
      "1        1\n",
      "2        1\n",
      "3        1\n",
      "4        2\n",
      "        ..\n",
      "16847    2\n",
      "16848    0\n",
      "16849    0\n",
      "16850    1\n",
      "16851    0\n",
      "Name: class, Length: 16852, dtype: int64\n"
     ]
    },
    {
     "data": {
      "image/png": "[encoded data removed]",
      "text/plain": [
       "<Figure size 432x288 with 1 Axes>"
      ]
     },
     "metadata": {
      "needs_background": "light"
     },
     "output_type": "display_data"
    }
   ],
   "source": [
    "print(data_sr['class'])\n",
    "plot(data_sr)"
   ]
  },
  {
   "cell_type": "markdown",
   "metadata": {},
   "source": [
    "### RD"
   ]
  },
  {
   "cell_type": "code",
   "execution_count": 16,
   "metadata": {
    "colab": {},
    "colab_type": "code",
    "id": "UMEB38tRVTEM"
   },
   "outputs": [
    {
     "data": {
      "text/html": [
       "<div>\n",
       "<style scoped>\n",
       "    .dataframe tbody tr th:only-of-type {\n",
       "        vertical-align: middle;\n",
       "    }\n",
       "\n",
       "    .dataframe tbody tr th {\n",
       "        vertical-align: top;\n",
       "    }\n",
       "\n",
       "    .dataframe thead th {\n",
       "        text-align: right;\n",
       "    }\n",
       "</style>\n",
       "<table border=\"1\" class=\"dataframe\">\n",
       "  <thead>\n",
       "    <tr style=\"text-align: right;\">\n",
       "      <th></th>\n",
       "      <th>class</th>\n",
       "      <th>tweet</th>\n",
       "    </tr>\n",
       "  </thead>\n",
       "  <tbody>\n",
       "    <tr>\n",
       "      <td>0</td>\n",
       "      <td>0</td>\n",
       "      <td>I hate when faggots talk shit then block me so...</td>\n",
       "    </tr>\n",
       "    <tr>\n",
       "      <td>1</td>\n",
       "      <td>1</td>\n",
       "      <td>Dumb bitch</td>\n",
       "    </tr>\n",
       "    <tr>\n",
       "      <td>2</td>\n",
       "      <td>1</td>\n",
       "      <td>lets record a song bitch right nowb</td>\n",
       "    </tr>\n",
       "    <tr>\n",
       "      <td>3</td>\n",
       "      <td>1</td>\n",
       "      <td>I m having hoes ain t shitI for the first girl...</td>\n",
       "    </tr>\n",
       "    <tr>\n",
       "      <td>4</td>\n",
       "      <td>2</td>\n",
       "      <td>It s not easy as you d think to find an astron...</td>\n",
       "    </tr>\n",
       "  </tbody>\n",
       "</table>\n",
       "</div>"
      ],
      "text/plain": [
       "   class                                              tweet\n",
       "0      0  I hate when faggots talk shit then block me so...\n",
       "1      1                                         Dumb bitch\n",
       "2      1                lets record a song bitch right nowb\n",
       "3      1  I m having hoes ain t shitI for the first girl...\n",
       "4      2  It s not easy as you d think to find an astron..."
      ]
     },
     "execution_count": 16,
     "metadata": {},
     "output_type": "execute_result"
    }
   ],
   "source": [
    "p = 0.2\n",
    "data_rd = data.copy(deep=True)\n",
    "for i,tweet in enumerate(data['tweet']):\n",
    "  tweet = tweet.replace('  ', '')\n",
    "  j = nltk.word_tokenize(tweet)\n",
    "  if len(j) < 2:\n",
    "    continue\n",
    "  data_rd['tweet'][i] = ' '.join(random_deletion(j, p))\n",
    "data_rd.head()"
   ]
  },
  {
   "cell_type": "markdown",
   "metadata": {},
   "source": [
    "### RS"
   ]
  },
  {
   "cell_type": "code",
   "execution_count": 17,
   "metadata": {
    "colab": {},
    "colab_type": "code",
    "id": "XDERAcWEOPTL"
   },
   "outputs": [
    {
     "data": {
      "text/html": [
       "<div>\n",
       "<style scoped>\n",
       "    .dataframe tbody tr th:only-of-type {\n",
       "        vertical-align: middle;\n",
       "    }\n",
       "\n",
       "    .dataframe tbody tr th {\n",
       "        vertical-align: top;\n",
       "    }\n",
       "\n",
       "    .dataframe thead th {\n",
       "        text-align: right;\n",
       "    }\n",
       "</style>\n",
       "<table border=\"1\" class=\"dataframe\">\n",
       "  <thead>\n",
       "    <tr style=\"text-align: right;\">\n",
       "      <th></th>\n",
       "      <th>class</th>\n",
       "      <th>tweet</th>\n",
       "    </tr>\n",
       "  </thead>\n",
       "  <tbody>\n",
       "    <tr>\n",
       "      <td>0</td>\n",
       "      <td>0</td>\n",
       "      <td>I on talk faggots when can I here then block m...</td>\n",
       "    </tr>\n",
       "    <tr>\n",
       "      <td>1</td>\n",
       "      <td>1</td>\n",
       "      <td>Dumb bitch</td>\n",
       "    </tr>\n",
       "    <tr>\n",
       "      <td>2</td>\n",
       "      <td>1</td>\n",
       "      <td>lets bitch a song nowb record right</td>\n",
       "    </tr>\n",
       "    <tr>\n",
       "      <td>3</td>\n",
       "      <td>1</td>\n",
       "      <td>I shitI in girl just hoes ain m a having I loo...</td>\n",
       "    </tr>\n",
       "    <tr>\n",
       "      <td>4</td>\n",
       "      <td>2</td>\n",
       "      <td>monkey to not It find as you as minute last ea...</td>\n",
       "    </tr>\n",
       "  </tbody>\n",
       "</table>\n",
       "</div>"
      ],
      "text/plain": [
       "   class                                              tweet\n",
       "0      0  I on talk faggots when can I here then block m...\n",
       "1      1                                         Dumb bitch\n",
       "2      1                lets bitch a song nowb record right\n",
       "3      1  I shitI in girl just hoes ain m a having I loo...\n",
       "4      2  monkey to not It find as you as minute last ea..."
      ]
     },
     "execution_count": 17,
     "metadata": {},
     "output_type": "execute_result"
    }
   ],
   "source": [
    "n = 9\n",
    "data_rs = data.copy(deep=True)\n",
    "for i, tweet in enumerate(data['tweet']):\n",
    "  tweet = tweet.replace('  ', '')\n",
    "  j = nltk.word_tokenize(tweet)\n",
    "  if len(j) < 2:\n",
    "    continue\n",
    "  data_rs['tweet'][i] = ' '.join(random_swap(j, n))\n",
    "data_rs.head()"
   ]
  },
  {
   "cell_type": "markdown",
   "metadata": {},
   "source": [
    "### RI"
   ]
  },
  {
   "cell_type": "code",
   "execution_count": 18,
   "metadata": {
    "colab": {},
    "colab_type": "code",
    "id": "LqOPeOj2d_z-"
   },
   "outputs": [
    {
     "data": {
      "text/html": [
       "<div>\n",
       "<style scoped>\n",
       "    .dataframe tbody tr th:only-of-type {\n",
       "        vertical-align: middle;\n",
       "    }\n",
       "\n",
       "    .dataframe tbody tr th {\n",
       "        vertical-align: top;\n",
       "    }\n",
       "\n",
       "    .dataframe thead th {\n",
       "        text-align: right;\n",
       "    }\n",
       "</style>\n",
       "<table border=\"1\" class=\"dataframe\">\n",
       "  <thead>\n",
       "    <tr style=\"text-align: right;\">\n",
       "      <th></th>\n",
       "      <th>class</th>\n",
       "      <th>tweet</th>\n",
       "    </tr>\n",
       "  </thead>\n",
       "  <tbody>\n",
       "    <tr>\n",
       "      <td>0</td>\n",
       "      <td>0</td>\n",
       "      <td>I hate when faggots talk shit angstrom on and...</td>\n",
       "    </tr>\n",
       "    <tr>\n",
       "      <td>1</td>\n",
       "      <td>1</td>\n",
       "      <td>tongueless mute tongueless mute grouse bitch g...</td>\n",
       "    </tr>\n",
       "    <tr>\n",
       "      <td>2</td>\n",
       "      <td>1</td>\n",
       "      <td>permit right wing tolerate lets vocal music re...</td>\n",
       "    </tr>\n",
       "    <tr>\n",
       "      <td>3</td>\n",
       "      <td>1</td>\n",
       "      <td>I m a joke fair having hoes ain t fair due sou...</td>\n",
       "    </tr>\n",
       "    <tr>\n",
       "      <td>4</td>\n",
       "      <td>2</td>\n",
       "      <td>It s non not as easy as you easily d call up e...</td>\n",
       "    </tr>\n",
       "  </tbody>\n",
       "</table>\n",
       "</div>"
      ],
      "text/plain": [
       "   class                                              tweet\n",
       "0      0   I hate when faggots talk shit angstrom on and...\n",
       "1      1  tongueless mute tongueless mute grouse bitch g...\n",
       "2      1  permit right wing tolerate lets vocal music re...\n",
       "3      1  I m a joke fair having hoes ain t fair due sou...\n",
       "4      2  It s non not as easy as you easily d call up e..."
      ]
     },
     "execution_count": 18,
     "metadata": {},
     "output_type": "execute_result"
    }
   ],
   "source": [
    "n = 9\n",
    "data_ra = data.copy(deep=True)\n",
    "for i, tweet in enumerate(data['tweet']):\n",
    "  tweet = tweet.replace('  ', '')\n",
    "  j = nltk.word_tokenize(tweet)\n",
    "  if len(j) < 2:\n",
    "    continue\n",
    "  data_ra['tweet'][i] = ' '.join(random_addition(j, n))\n",
    "data_ra.head()"
   ]
  },
  {
   "cell_type": "markdown",
   "metadata": {},
   "source": [
    "## Augmenting hate class"
   ]
  },
  {
   "cell_type": "code",
   "execution_count": 22,
   "metadata": {},
   "outputs": [],
   "source": [
    "data_hate = data.loc[data['class'] == 0]"
   ]
  },
  {
   "cell_type": "code",
   "execution_count": 6,
   "metadata": {},
   "outputs": [],
   "source": [
    "def load_aug_data():\n",
    "  daug_sr=pd.read_csv('/Users/ethan/py3tf/project_nlp/train_data_hs_sr.csv')\n",
    "  daug_rs=pd.read_csv('/Users/ethan/py3tf/project_nlp/train_data_hs_rs.csv')\n",
    "  daug_rd=pd.read_csv('/Users/ethan/py3tf/project_nlp/train_data_hs_rd.csv')\n",
    "  daug_ri=pd.read_csv('/Users/ethan/py3tf/project_nlp/train_data_hs_ri.csv')\n",
    "  daug_sr=daug_sr.drop('Unnamed: 0', axis=1)\n",
    "  daug_rs=daug_rs.drop('Unnamed: 0', axis=1)\n",
    "  daug_rd=daug_rd.drop('Unnamed: 0', axis=1)\n",
    "  daug_ri=daug_ri.drop('Unnamed: 0', axis=1)\n",
    "  return daug_sr, daug_rs, daug_rd, daug_ri"
   ]
  },
  {
   "cell_type": "code",
   "execution_count": 7,
   "metadata": {},
   "outputs": [],
   "source": [
    "daug_sr, daug_rs, daug_rd, daug_ri = load_aug_data()"
   ]
  },
  {
   "cell_type": "code",
   "execution_count": 8,
   "metadata": {},
   "outputs": [
    {
     "data": {
      "text/html": [
       "<div>\n",
       "<style scoped>\n",
       "    .dataframe tbody tr th:only-of-type {\n",
       "        vertical-align: middle;\n",
       "    }\n",
       "\n",
       "    .dataframe tbody tr th {\n",
       "        vertical-align: top;\n",
       "    }\n",
       "\n",
       "    .dataframe thead th {\n",
       "        text-align: right;\n",
       "    }\n",
       "</style>\n",
       "<table border=\"1\" class=\"dataframe\">\n",
       "  <thead>\n",
       "    <tr style=\"text-align: right;\">\n",
       "      <th></th>\n",
       "      <th>class</th>\n",
       "      <th>tweet</th>\n",
       "    </tr>\n",
       "  </thead>\n",
       "  <tbody>\n",
       "    <tr>\n",
       "      <td>0</td>\n",
       "      <td>0</td>\n",
       "      <td>I hate when faggots talk shit on here then b...</td>\n",
       "    </tr>\n",
       "    <tr>\n",
       "      <td>1</td>\n",
       "      <td>1</td>\n",
       "      <td>Dumb bitch</td>\n",
       "    </tr>\n",
       "    <tr>\n",
       "      <td>2</td>\n",
       "      <td>1</td>\n",
       "      <td>lets record a song bitch right nowb</td>\n",
       "    </tr>\n",
       "    <tr>\n",
       "      <td>3</td>\n",
       "      <td>1</td>\n",
       "      <td>I m a joke having hoes ain t shit  I m just...</td>\n",
       "    </tr>\n",
       "    <tr>\n",
       "      <td>4</td>\n",
       "      <td>2</td>\n",
       "      <td>It s not as easy as you d think to find an a...</td>\n",
       "    </tr>\n",
       "    <tr>\n",
       "      <td>...</td>\n",
       "      <td>...</td>\n",
       "      <td>...</td>\n",
       "    </tr>\n",
       "    <tr>\n",
       "      <td>33699</td>\n",
       "      <td>2</td>\n",
       "      <td>iodin motive to plectron between deuce wigsThe...</td>\n",
       "    </tr>\n",
       "    <tr>\n",
       "      <td>33700</td>\n",
       "      <td>0</td>\n",
       "      <td>atomic number  finger ilk Tim nellie ross is a...</td>\n",
       "    </tr>\n",
       "    <tr>\n",
       "      <td>33701</td>\n",
       "      <td>0</td>\n",
       "      <td>ugly rapperTyga Most crank doorknocker everShe...</td>\n",
       "    </tr>\n",
       "    <tr>\n",
       "      <td>33702</td>\n",
       "      <td>1</td>\n",
       "      <td>contrary to beliefus queer don t hug drug roun...</td>\n",
       "    </tr>\n",
       "    <tr>\n",
       "      <td>33703</td>\n",
       "      <td>0</td>\n",
       "      <td>it think of that im pursual edict and being su...</td>\n",
       "    </tr>\n",
       "  </tbody>\n",
       "</table>\n",
       "<p>33704 rows × 2 columns</p>\n",
       "</div>"
      ],
      "text/plain": [
       "       class                                              tweet\n",
       "0          0    I hate when faggots talk shit on here then b...\n",
       "1          1                                        Dumb bitch \n",
       "2          1                lets record a song bitch right nowb\n",
       "3          1     I m a joke having hoes ain t shit  I m just...\n",
       "4          2    It s not as easy as you d think to find an a...\n",
       "...      ...                                                ...\n",
       "33699      2  iodin motive to plectron between deuce wigsThe...\n",
       "33700      0  atomic number  finger ilk Tim nellie ross is a...\n",
       "33701      0  ugly rapperTyga Most crank doorknocker everShe...\n",
       "33702      1  contrary to beliefus queer don t hug drug roun...\n",
       "33703      0  it think of that im pursual edict and being su...\n",
       "\n",
       "[33704 rows x 2 columns]"
      ]
     },
     "execution_count": 8,
     "metadata": {},
     "output_type": "execute_result"
    }
   ],
   "source": [
    "daug_sr"
   ]
  },
  {
   "cell_type": "code",
   "execution_count": null,
   "metadata": {},
   "outputs": [],
   "source": [
    "df.loc[df['column_name'] != some_value]"
   ]
  },
  {
   "cell_type": "code",
   "execution_count": 9,
   "metadata": {},
   "outputs": [],
   "source": [
    "def append_aug_data():\n",
    "    daug_sr_a = daug_sr[daug_sr.index > 16851]\n",
    "    daug_rs_a = daug_rs[daug_rs.index > 16851]\n",
    "    daug_rd_a = daug_rd[daug_rd.index > 16851]\n",
    "    daug_ri_a = daug_ri[daug_ri.index > 16851]\n",
    "    dhate_sr = daug_sr_a[daug_sr_a['class'] != 1]\n",
    "    dhate_rs = daug_rs_a[daug_rs_a['class'] != 1]\n",
    "    dhate_rd = daug_rd_a[daug_rd_a['class'] != 1]\n",
    "    dhate_ri = daug_ri_a[daug_ri_a['class'] != 1]\n",
    "    return dhate_sr, dhate_rs, dhate_rd, dhate_ri"
   ]
  },
  {
   "cell_type": "code",
   "execution_count": 10,
   "metadata": {},
   "outputs": [],
   "source": [
    "dhate_sr, dhate_rs, dhate_rd, dhate_ri = append_aug_data()"
   ]
  },
  {
   "cell_type": "code",
   "execution_count": 17,
   "metadata": {},
   "outputs": [
    {
     "data": {
      "text/html": [
       "<div>\n",
       "<style scoped>\n",
       "    .dataframe tbody tr th:only-of-type {\n",
       "        vertical-align: middle;\n",
       "    }\n",
       "\n",
       "    .dataframe tbody tr th {\n",
       "        vertical-align: top;\n",
       "    }\n",
       "\n",
       "    .dataframe thead th {\n",
       "        text-align: right;\n",
       "    }\n",
       "</style>\n",
       "<table border=\"1\" class=\"dataframe\">\n",
       "  <thead>\n",
       "    <tr style=\"text-align: right;\">\n",
       "      <th></th>\n",
       "      <th>class</th>\n",
       "      <th>tweet</th>\n",
       "    </tr>\n",
       "  </thead>\n",
       "  <tbody>\n",
       "  </tbody>\n",
       "</table>\n",
       "</div>"
      ],
      "text/plain": [
       "Empty DataFrame\n",
       "Columns: [class, tweet]\n",
       "Index: []"
      ]
     },
     "execution_count": 17,
     "metadata": {},
     "output_type": "execute_result"
    }
   ],
   "source": [
    "dhate_sr.loc[dhate_sr['class'] == 1]"
   ]
  },
  {
   "cell_type": "code",
   "execution_count": 23,
   "metadata": {},
   "outputs": [],
   "source": [
    "train_hate_sr = pd.concat([data, dhate_sr], ignore_index=True, sort=False)\n",
    "train_hate_rs = pd.concat([data, dhate_rs], ignore_index=True, sort=False)\n",
    "train_hate_rd = pd.concat([data, dhate_rd], ignore_index=True, sort=False)\n",
    "train_hate_ri = pd.concat([data, dhate_ri], ignore_index=True, sort=False)"
   ]
  },
  {
   "cell_type": "code",
   "execution_count": 24,
   "metadata": {},
   "outputs": [],
   "source": [
    "# train_hate_sr = train_hate_sr.sample(frac=1).reset_index(drop=True)\n",
    "# train_hate_rs = train_hate_rs.sample(frac=1).reset_index(drop=True)\n",
    "# train_hate_rd = train_hate_rd.sample(frac=1).reset_index(drop=True)\n",
    "# train_hate_ri = train_hate_ri.sample(frac=1).reset_index(drop=True)"
   ]
  },
  {
   "cell_type": "code",
   "execution_count": 25,
   "metadata": {},
   "outputs": [
    {
     "data": {
      "text/html": [
       "<div>\n",
       "<style scoped>\n",
       "    .dataframe tbody tr th:only-of-type {\n",
       "        vertical-align: middle;\n",
       "    }\n",
       "\n",
       "    .dataframe tbody tr th {\n",
       "        vertical-align: top;\n",
       "    }\n",
       "\n",
       "    .dataframe thead th {\n",
       "        text-align: right;\n",
       "    }\n",
       "</style>\n",
       "<table border=\"1\" class=\"dataframe\">\n",
       "  <thead>\n",
       "    <tr style=\"text-align: right;\">\n",
       "      <th></th>\n",
       "      <th>class</th>\n",
       "      <th>tweet</th>\n",
       "    </tr>\n",
       "  </thead>\n",
       "  <tbody>\n",
       "    <tr>\n",
       "      <td>0</td>\n",
       "      <td>0</td>\n",
       "      <td>I hate when faggots talk shit on here then b...</td>\n",
       "    </tr>\n",
       "    <tr>\n",
       "      <td>1</td>\n",
       "      <td>1</td>\n",
       "      <td>Dumb bitch</td>\n",
       "    </tr>\n",
       "    <tr>\n",
       "      <td>2</td>\n",
       "      <td>1</td>\n",
       "      <td>lets record a song bitch right nowb</td>\n",
       "    </tr>\n",
       "    <tr>\n",
       "      <td>3</td>\n",
       "      <td>1</td>\n",
       "      <td>I m a joke having hoes ain t shit  I m just...</td>\n",
       "    </tr>\n",
       "    <tr>\n",
       "      <td>4</td>\n",
       "      <td>2</td>\n",
       "      <td>It s not as easy as you d think to find an a...</td>\n",
       "    </tr>\n",
       "    <tr>\n",
       "      <td>...</td>\n",
       "      <td>...</td>\n",
       "      <td>...</td>\n",
       "    </tr>\n",
       "    <tr>\n",
       "      <td>20679</td>\n",
       "      <td>0</td>\n",
       "      <td>lmaoo what a poof</td>\n",
       "    </tr>\n",
       "    <tr>\n",
       "      <td>20680</td>\n",
       "      <td>2</td>\n",
       "      <td>iodin motive to plectron between deuce wigsThe...</td>\n",
       "    </tr>\n",
       "    <tr>\n",
       "      <td>20681</td>\n",
       "      <td>0</td>\n",
       "      <td>atomic number  finger ilk Tim nellie ross is a...</td>\n",
       "    </tr>\n",
       "    <tr>\n",
       "      <td>20682</td>\n",
       "      <td>0</td>\n",
       "      <td>ugly rapperTyga Most crank doorknocker everShe...</td>\n",
       "    </tr>\n",
       "    <tr>\n",
       "      <td>20683</td>\n",
       "      <td>0</td>\n",
       "      <td>it think of that im pursual edict and being su...</td>\n",
       "    </tr>\n",
       "  </tbody>\n",
       "</table>\n",
       "<p>20684 rows × 2 columns</p>\n",
       "</div>"
      ],
      "text/plain": [
       "       class                                              tweet\n",
       "0          0    I hate when faggots talk shit on here then b...\n",
       "1          1                                        Dumb bitch \n",
       "2          1                lets record a song bitch right nowb\n",
       "3          1     I m a joke having hoes ain t shit  I m just...\n",
       "4          2    It s not as easy as you d think to find an a...\n",
       "...      ...                                                ...\n",
       "20679      0                                  lmaoo what a poof\n",
       "20680      2  iodin motive to plectron between deuce wigsThe...\n",
       "20681      0  atomic number  finger ilk Tim nellie ross is a...\n",
       "20682      0  ugly rapperTyga Most crank doorknocker everShe...\n",
       "20683      0  it think of that im pursual edict and being su...\n",
       "\n",
       "[20684 rows x 2 columns]"
      ]
     },
     "execution_count": 25,
     "metadata": {},
     "output_type": "execute_result"
    }
   ],
   "source": [
    "train_hate_sr"
   ]
  },
  {
   "cell_type": "code",
   "execution_count": 26,
   "metadata": {},
   "outputs": [],
   "source": [
    "train_hate_sr.to_csv('train_partial_sr.csv')\n",
    "train_hate_rs.to_csv('train_partial_rs.csv')\n",
    "train_hate_rd.to_csv('train_partial_rd.csv')\n",
    "train_hate_ri.to_csv('train_partial_ri.csv')"
   ]
  },
  {
   "cell_type": "code",
   "execution_count": 30,
   "metadata": {},
   "outputs": [],
   "source": [
    "train_hate_sr_rs = pd.concat([train_hate_sr, dhate_rs], ignore_index=True, sort=False)\n",
    "train_hate_sr_rd = pd.concat([train_hate_sr, dhate_rd], ignore_index=True, sort=False)\n",
    "train_hate_sr_ri = pd.concat([train_hate_sr, dhate_ri], ignore_index=True, sort=False)\n",
    "train_hate_rs_rd = pd.concat([train_hate_rs, dhate_rd], ignore_index=True, sort=False)\n",
    "train_hate_rs_ri = pd.concat([train_hate_rs, dhate_ri], ignore_index=True, sort=False)\n",
    "train_hate_rd_ri = pd.concat([train_hate_rd, dhate_ri], ignore_index=True, sort=False)"
   ]
  },
  {
   "cell_type": "code",
   "execution_count": null,
   "metadata": {},
   "outputs": [],
   "source": []
  },
  {
   "cell_type": "code",
   "execution_count": 31,
   "metadata": {},
   "outputs": [],
   "source": [
    "# train_hate_sr_rs = train_hate_sr_rs.sample(frac=1).reset_index(drop=True)\n",
    "# train_hate_sr_rd = train_hate_sr_rd.sample(frac=1).reset_index(drop=True)\n",
    "# train_hate_sr_ri = train_hate_sr_ri.sample(frac=1).reset_index(drop=True)\n",
    "# train_hate_rs_rd = train_hate_rs_rd.sample(frac=1).reset_index(drop=True)\n",
    "# train_hate_rs_ri = train_hate_rs_ri.sample(frac=1).reset_index(drop=True)\n",
    "# train_hate_rd_ri = train_hate_rd_ri.sample(frac=1).reset_index(drop=True)"
   ]
  },
  {
   "cell_type": "code",
   "execution_count": 32,
   "metadata": {},
   "outputs": [
    {
     "data": {
      "text/html": [
       "<div>\n",
       "<style scoped>\n",
       "    .dataframe tbody tr th:only-of-type {\n",
       "        vertical-align: middle;\n",
       "    }\n",
       "\n",
       "    .dataframe tbody tr th {\n",
       "        vertical-align: top;\n",
       "    }\n",
       "\n",
       "    .dataframe thead th {\n",
       "        text-align: right;\n",
       "    }\n",
       "</style>\n",
       "<table border=\"1\" class=\"dataframe\">\n",
       "  <thead>\n",
       "    <tr style=\"text-align: right;\">\n",
       "      <th></th>\n",
       "      <th>class</th>\n",
       "      <th>tweet</th>\n",
       "    </tr>\n",
       "  </thead>\n",
       "  <tbody>\n",
       "    <tr>\n",
       "      <td>0</td>\n",
       "      <td>0</td>\n",
       "      <td>I hate when faggots talk shit on here then b...</td>\n",
       "    </tr>\n",
       "    <tr>\n",
       "      <td>1</td>\n",
       "      <td>1</td>\n",
       "      <td>Dumb bitch</td>\n",
       "    </tr>\n",
       "    <tr>\n",
       "      <td>2</td>\n",
       "      <td>1</td>\n",
       "      <td>lets record a song bitch right nowb</td>\n",
       "    </tr>\n",
       "    <tr>\n",
       "      <td>3</td>\n",
       "      <td>1</td>\n",
       "      <td>I m a joke having hoes ain t shit  I m just...</td>\n",
       "    </tr>\n",
       "    <tr>\n",
       "      <td>4</td>\n",
       "      <td>2</td>\n",
       "      <td>It s not as easy as you d think to find an a...</td>\n",
       "    </tr>\n",
       "    <tr>\n",
       "      <td>...</td>\n",
       "      <td>...</td>\n",
       "      <td>...</td>\n",
       "    </tr>\n",
       "    <tr>\n",
       "      <td>24511</td>\n",
       "      <td>0</td>\n",
       "      <td>lmaoo what fag a</td>\n",
       "    </tr>\n",
       "    <tr>\n",
       "      <td>24512</td>\n",
       "      <td>2</td>\n",
       "      <td>multi bob to colored my cute red agony My two ...</td>\n",
       "    </tr>\n",
       "    <tr>\n",
       "      <td>24513</td>\n",
       "      <td>0</td>\n",
       "      <td>I a is Ross nigger like Tim feel</td>\n",
       "    </tr>\n",
       "    <tr>\n",
       "      <td>24514</td>\n",
       "      <td>0</td>\n",
       "      <td>Horrible rapperTyga Most mom heard everShe wan...</td>\n",
       "    </tr>\n",
       "    <tr>\n",
       "      <td>24515</td>\n",
       "      <td>0</td>\n",
       "      <td>being meya and it following im that orders sub...</td>\n",
       "    </tr>\n",
       "  </tbody>\n",
       "</table>\n",
       "<p>24516 rows × 2 columns</p>\n",
       "</div>"
      ],
      "text/plain": [
       "       class                                              tweet\n",
       "0          0    I hate when faggots talk shit on here then b...\n",
       "1          1                                        Dumb bitch \n",
       "2          1                lets record a song bitch right nowb\n",
       "3          1     I m a joke having hoes ain t shit  I m just...\n",
       "4          2    It s not as easy as you d think to find an a...\n",
       "...      ...                                                ...\n",
       "24511      0                                   lmaoo what fag a\n",
       "24512      2  multi bob to colored my cute red agony My two ...\n",
       "24513      0                   I a is Ross nigger like Tim feel\n",
       "24514      0  Horrible rapperTyga Most mom heard everShe wan...\n",
       "24515      0  being meya and it following im that orders sub...\n",
       "\n",
       "[24516 rows x 2 columns]"
      ]
     },
     "execution_count": 32,
     "metadata": {},
     "output_type": "execute_result"
    }
   ],
   "source": [
    "train_hate_sr_rs"
   ]
  },
  {
   "cell_type": "code",
   "execution_count": 33,
   "metadata": {},
   "outputs": [],
   "source": [
    "train_hate_sr_rs.to_csv('train_partial_sr_rs.csv')\n",
    "train_hate_sr_rd.to_csv('train_partial_sr_rd.csv')\n",
    "train_hate_sr_ri.to_csv('train_partial_sr_ri.csv')\n",
    "train_hate_rs_rd.to_csv('train_partial_rs_rd.csv')\n",
    "train_hate_rs_ri.to_csv('train_partial_rs_ri.csv')\n",
    "train_hate_rd_ri.to_csv('train_partial_rd_ri.csv')"
   ]
  },
  {
   "cell_type": "code",
   "execution_count": 34,
   "metadata": {},
   "outputs": [],
   "source": [
    "train_hate_sr_rs_rd = pd.concat([train_hate_sr_rs, dhate_rd], ignore_index=True, sort=False)\n",
    "train_hate_sr_rs_ri = pd.concat([train_hate_sr_rs, dhate_ri], ignore_index=True, sort=False)\n",
    "train_hate_sr_ri_rd = pd.concat([train_hate_sr_ri, dhate_rd], ignore_index=True, sort=False)\n",
    "train_hate_ri_rs_rd = pd.concat([train_hate_rs_ri, dhate_rd], ignore_index=True, sort=False)"
   ]
  },
  {
   "cell_type": "code",
   "execution_count": 35,
   "metadata": {},
   "outputs": [],
   "source": [
    "# train_hate_sr_rs_rd = train_hate_sr_rs_rd.sample(frac=1).reset_index(drop=True)\n",
    "# train_hate_sr_rs_ri = train_hate_sr_rs_ri.sample(frac=1).reset_index(drop=True)\n",
    "# train_hate_sr_ri_rd = train_hate_sr_ri_rd.sample(frac=1).reset_index(drop=True)\n",
    "# train_hate_ri_rs_rd = train_hate_ri_rs_rd.sample(frac=1).reset_index(drop=True)"
   ]
  },
  {
   "cell_type": "code",
   "execution_count": 36,
   "metadata": {},
   "outputs": [],
   "source": [
    "train_hate_sr_rs_rd.to_csv('train_partial_sr_rs_rd.csv')\n",
    "train_hate_sr_rs_ri.to_csv('train_partial_sr_rs_ri.csv')\n",
    "train_hate_sr_ri_rd.to_csv('train_partial_sr_ri_rd.csv')\n",
    "train_hate_ri_rs_rd.to_csv('train_partial_ri_rs_rd.csv')"
   ]
  },
  {
   "cell_type": "code",
   "execution_count": 37,
   "metadata": {},
   "outputs": [
    {
     "data": {
      "text/html": [
       "<div>\n",
       "<style scoped>\n",
       "    .dataframe tbody tr th:only-of-type {\n",
       "        vertical-align: middle;\n",
       "    }\n",
       "\n",
       "    .dataframe tbody tr th {\n",
       "        vertical-align: top;\n",
       "    }\n",
       "\n",
       "    .dataframe thead th {\n",
       "        text-align: right;\n",
       "    }\n",
       "</style>\n",
       "<table border=\"1\" class=\"dataframe\">\n",
       "  <thead>\n",
       "    <tr style=\"text-align: right;\">\n",
       "      <th></th>\n",
       "      <th>class</th>\n",
       "      <th>tweet</th>\n",
       "    </tr>\n",
       "  </thead>\n",
       "  <tbody>\n",
       "    <tr>\n",
       "      <td>0</td>\n",
       "      <td>0</td>\n",
       "      <td>I hate when faggots talk shit on here then b...</td>\n",
       "    </tr>\n",
       "    <tr>\n",
       "      <td>1</td>\n",
       "      <td>1</td>\n",
       "      <td>Dumb bitch</td>\n",
       "    </tr>\n",
       "    <tr>\n",
       "      <td>2</td>\n",
       "      <td>1</td>\n",
       "      <td>lets record a song bitch right nowb</td>\n",
       "    </tr>\n",
       "    <tr>\n",
       "      <td>3</td>\n",
       "      <td>1</td>\n",
       "      <td>I m a joke having hoes ain t shit  I m just...</td>\n",
       "    </tr>\n",
       "    <tr>\n",
       "      <td>4</td>\n",
       "      <td>2</td>\n",
       "      <td>It s not as easy as you d think to find an a...</td>\n",
       "    </tr>\n",
       "    <tr>\n",
       "      <td>...</td>\n",
       "      <td>...</td>\n",
       "      <td>...</td>\n",
       "    </tr>\n",
       "    <tr>\n",
       "      <td>28343</td>\n",
       "      <td>0</td>\n",
       "      <td>lmaoo what a fag</td>\n",
       "    </tr>\n",
       "    <tr>\n",
       "      <td>28344</td>\n",
       "      <td>2</td>\n",
       "      <td>I need to pick wigsThe My cute multi colored b...</td>\n",
       "    </tr>\n",
       "    <tr>\n",
       "      <td>28345</td>\n",
       "      <td>0</td>\n",
       "      <td>I feel Tim Ross is nigger</td>\n",
       "    </tr>\n",
       "    <tr>\n",
       "      <td>28346</td>\n",
       "      <td>0</td>\n",
       "      <td>Horrible rapperTyga Most rapper everShe want a...</td>\n",
       "    </tr>\n",
       "    <tr>\n",
       "      <td>28347</td>\n",
       "      <td>0</td>\n",
       "      <td>means that im following orders and being subor...</td>\n",
       "    </tr>\n",
       "  </tbody>\n",
       "</table>\n",
       "<p>28348 rows × 2 columns</p>\n",
       "</div>"
      ],
      "text/plain": [
       "       class                                              tweet\n",
       "0          0    I hate when faggots talk shit on here then b...\n",
       "1          1                                        Dumb bitch \n",
       "2          1                lets record a song bitch right nowb\n",
       "3          1     I m a joke having hoes ain t shit  I m just...\n",
       "4          2    It s not as easy as you d think to find an a...\n",
       "...      ...                                                ...\n",
       "28343      0                                   lmaoo what a fag\n",
       "28344      2  I need to pick wigsThe My cute multi colored b...\n",
       "28345      0                          I feel Tim Ross is nigger\n",
       "28346      0  Horrible rapperTyga Most rapper everShe want a...\n",
       "28347      0  means that im following orders and being subor...\n",
       "\n",
       "[28348 rows x 2 columns]"
      ]
     },
     "execution_count": 37,
     "metadata": {},
     "output_type": "execute_result"
    }
   ],
   "source": [
    "train_hate_sr_rs_rd"
   ]
  },
  {
   "cell_type": "code",
   "execution_count": 38,
   "metadata": {},
   "outputs": [],
   "source": [
    "train_hate_sr_rs_rd_ri = pd.concat([train_hate_sr_rs_rd, dhate_ri], ignore_index=True, sort=False)\n",
    "# train_hate_sr_rs_rd_ri = train_hate_sr_rs_rd_ri.sample(frac=1).reset_index(drop=True)"
   ]
  },
  {
   "cell_type": "code",
   "execution_count": 39,
   "metadata": {},
   "outputs": [
    {
     "data": {
      "text/html": [
       "<div>\n",
       "<style scoped>\n",
       "    .dataframe tbody tr th:only-of-type {\n",
       "        vertical-align: middle;\n",
       "    }\n",
       "\n",
       "    .dataframe tbody tr th {\n",
       "        vertical-align: top;\n",
       "    }\n",
       "\n",
       "    .dataframe thead th {\n",
       "        text-align: right;\n",
       "    }\n",
       "</style>\n",
       "<table border=\"1\" class=\"dataframe\">\n",
       "  <thead>\n",
       "    <tr style=\"text-align: right;\">\n",
       "      <th></th>\n",
       "      <th>class</th>\n",
       "      <th>tweet</th>\n",
       "    </tr>\n",
       "  </thead>\n",
       "  <tbody>\n",
       "    <tr>\n",
       "      <td>0</td>\n",
       "      <td>0</td>\n",
       "      <td>I hate when faggots talk shit on here then b...</td>\n",
       "    </tr>\n",
       "    <tr>\n",
       "      <td>1</td>\n",
       "      <td>1</td>\n",
       "      <td>Dumb bitch</td>\n",
       "    </tr>\n",
       "    <tr>\n",
       "      <td>2</td>\n",
       "      <td>1</td>\n",
       "      <td>lets record a song bitch right nowb</td>\n",
       "    </tr>\n",
       "    <tr>\n",
       "      <td>3</td>\n",
       "      <td>1</td>\n",
       "      <td>I m a joke having hoes ain t shit  I m just...</td>\n",
       "    </tr>\n",
       "    <tr>\n",
       "      <td>4</td>\n",
       "      <td>2</td>\n",
       "      <td>It s not as easy as you d think to find an a...</td>\n",
       "    </tr>\n",
       "    <tr>\n",
       "      <td>...</td>\n",
       "      <td>...</td>\n",
       "      <td>...</td>\n",
       "    </tr>\n",
       "    <tr>\n",
       "      <td>32175</td>\n",
       "      <td>0</td>\n",
       "      <td>lmaoo queer what a queer queer queer axerophth...</td>\n",
       "    </tr>\n",
       "    <tr>\n",
       "      <td>32176</td>\n",
       "      <td>2</td>\n",
       "      <td>I need to cherished excruciation pick between ...</td>\n",
       "    </tr>\n",
       "    <tr>\n",
       "      <td>32177</td>\n",
       "      <td>0</td>\n",
       "      <td>nigra I exist feel axerophthol  sir john ross ...</td>\n",
       "    </tr>\n",
       "    <tr>\n",
       "      <td>32178</td>\n",
       "      <td>0</td>\n",
       "      <td>Horrible rapperTyga Most vitamin a trash rappe...</td>\n",
       "    </tr>\n",
       "    <tr>\n",
       "      <td>32179</td>\n",
       "      <td>0</td>\n",
       "      <td>information technology organism it means that ...</td>\n",
       "    </tr>\n",
       "  </tbody>\n",
       "</table>\n",
       "<p>32180 rows × 2 columns</p>\n",
       "</div>"
      ],
      "text/plain": [
       "       class                                              tweet\n",
       "0          0    I hate when faggots talk shit on here then b...\n",
       "1          1                                        Dumb bitch \n",
       "2          1                lets record a song bitch right nowb\n",
       "3          1     I m a joke having hoes ain t shit  I m just...\n",
       "4          2    It s not as easy as you d think to find an a...\n",
       "...      ...                                                ...\n",
       "32175      0  lmaoo queer what a queer queer queer axerophth...\n",
       "32176      2  I need to cherished excruciation pick between ...\n",
       "32177      0  nigra I exist feel axerophthol  sir john ross ...\n",
       "32178      0  Horrible rapperTyga Most vitamin a trash rappe...\n",
       "32179      0  information technology organism it means that ...\n",
       "\n",
       "[32180 rows x 2 columns]"
      ]
     },
     "execution_count": 39,
     "metadata": {},
     "output_type": "execute_result"
    }
   ],
   "source": [
    "train_hate_sr_rs_rd_ri"
   ]
  },
  {
   "cell_type": "code",
   "execution_count": 40,
   "metadata": {},
   "outputs": [],
   "source": [
    "train_hate_sr_rs_rd_ri.to_csv('train_partial_sr_rs_rd_ri.csv')"
   ]
  },
  {
   "cell_type": "markdown",
   "metadata": {},
   "source": [
    "# Creating all CSV files"
   ]
  },
  {
   "cell_type": "markdown",
   "metadata": {},
   "source": [
    "###### train_data_sr csv file"
   ]
  },
  {
   "cell_type": "code",
   "execution_count": 19,
   "metadata": {},
   "outputs": [
    {
     "name": "stdout",
     "output_type": "stream",
     "text": [
      "       class                                              tweet\n",
      "0          0    I hate when faggots talk shit on here then b...\n",
      "1          1                                        Dumb bitch \n",
      "2          1                lets record a song bitch right nowb\n",
      "3          1     I m a joke having hoes ain t shit  I m just...\n",
      "4          2    It s not as easy as you d think to find an a...\n",
      "...      ...                                                ...\n",
      "33699      2  unity penury to beak between  wigsThe torture ...\n",
      "33700      0       ace finger wish Tim sir john ross is a spade\n",
      "33701      0  frightful rapperTyga near methamphetamine hydr...\n",
      "33702      1  opposite to beliefus bilk don t tour some appe...\n",
      "33703      0  it intend that im fall out regularize and bein...\n",
      "\n",
      "[33704 rows x 2 columns]\n"
     ]
    }
   ],
   "source": [
    "train_sr = pd.concat([data, data_sr], ignore_index=True, sort=False)\n",
    "print(train_sr)"
   ]
  },
  {
   "cell_type": "code",
   "execution_count": 95,
   "metadata": {},
   "outputs": [],
   "source": [
    "data_sr.to_csv('train_data_sr.csv')"
   ]
  },
  {
   "cell_type": "code",
   "execution_count": 22,
   "metadata": {},
   "outputs": [],
   "source": [
    "sr1=data_sr"
   ]
  },
  {
   "cell_type": "code",
   "execution_count": 23,
   "metadata": {},
   "outputs": [
    {
     "data": {
      "text/html": [
       "<div>\n",
       "<style scoped>\n",
       "    .dataframe tbody tr th:only-of-type {\n",
       "        vertical-align: middle;\n",
       "    }\n",
       "\n",
       "    .dataframe tbody tr th {\n",
       "        vertical-align: top;\n",
       "    }\n",
       "\n",
       "    .dataframe thead th {\n",
       "        text-align: right;\n",
       "    }\n",
       "</style>\n",
       "<table border=\"1\" class=\"dataframe\">\n",
       "  <thead>\n",
       "    <tr style=\"text-align: right;\">\n",
       "      <th></th>\n",
       "      <th>class</th>\n",
       "      <th>tweet</th>\n",
       "    </tr>\n",
       "  </thead>\n",
       "  <tbody>\n",
       "    <tr>\n",
       "      <td>0</td>\n",
       "      <td>0</td>\n",
       "      <td>iodine detest when faggot up talk of the town ...</td>\n",
       "    </tr>\n",
       "    <tr>\n",
       "      <td>1</td>\n",
       "      <td>1</td>\n",
       "      <td>obtuse kick</td>\n",
       "    </tr>\n",
       "    <tr>\n",
       "      <td>2</td>\n",
       "      <td>1</td>\n",
       "      <td>rent record book a call beef right hand nowb</td>\n",
       "    </tr>\n",
       "    <tr>\n",
       "      <td>3</td>\n",
       "      <td>1</td>\n",
       "      <td>ace m a put on having hoe ain t shitI m just c...</td>\n",
       "    </tr>\n",
       "    <tr>\n",
       "      <td>4</td>\n",
       "      <td>2</td>\n",
       "      <td>information technology s not as prosperous as ...</td>\n",
       "    </tr>\n",
       "    <tr>\n",
       "      <td>...</td>\n",
       "      <td>...</td>\n",
       "      <td>...</td>\n",
       "    </tr>\n",
       "    <tr>\n",
       "      <td>16847</td>\n",
       "      <td>2</td>\n",
       "      <td>unity penury to beak between  wigsThe torture ...</td>\n",
       "    </tr>\n",
       "    <tr>\n",
       "      <td>16848</td>\n",
       "      <td>0</td>\n",
       "      <td>ace finger wish Tim sir john ross is a spade</td>\n",
       "    </tr>\n",
       "    <tr>\n",
       "      <td>16849</td>\n",
       "      <td>0</td>\n",
       "      <td>frightful rapperTyga near methamphetamine hydr...</td>\n",
       "    </tr>\n",
       "    <tr>\n",
       "      <td>16850</td>\n",
       "      <td>1</td>\n",
       "      <td>opposite to beliefus bilk don t tour some appe...</td>\n",
       "    </tr>\n",
       "    <tr>\n",
       "      <td>16851</td>\n",
       "      <td>0</td>\n",
       "      <td>it intend that im fall out regularize and bein...</td>\n",
       "    </tr>\n",
       "  </tbody>\n",
       "</table>\n",
       "<p>16852 rows × 2 columns</p>\n",
       "</div>"
      ],
      "text/plain": [
       "       class                                              tweet\n",
       "0          0  iodine detest when faggot up talk of the town ...\n",
       "1          1                                        obtuse kick\n",
       "2          1       rent record book a call beef right hand nowb\n",
       "3          1  ace m a put on having hoe ain t shitI m just c...\n",
       "4          2  information technology s not as prosperous as ...\n",
       "...      ...                                                ...\n",
       "16847      2  unity penury to beak between  wigsThe torture ...\n",
       "16848      0       ace finger wish Tim sir john ross is a spade\n",
       "16849      0  frightful rapperTyga near methamphetamine hydr...\n",
       "16850      1  opposite to beliefus bilk don t tour some appe...\n",
       "16851      0  it intend that im fall out regularize and bein...\n",
       "\n",
       "[16852 rows x 2 columns]"
      ]
     },
     "execution_count": 23,
     "metadata": {},
     "output_type": "execute_result"
    }
   ],
   "source": [
    "sr1"
   ]
  },
  {
   "cell_type": "code",
   "execution_count": 93,
   "metadata": {},
   "outputs": [],
   "source": [
    "sr1.to_csv('train_data_hs_sr1.csv')"
   ]
  },
  {
   "cell_type": "markdown",
   "metadata": {},
   "source": [
    "###### train_data_rd csv file"
   ]
  },
  {
   "cell_type": "code",
   "execution_count": null,
   "metadata": {},
   "outputs": [],
   "source": [
    "train_rd = pd.concat([data, data_rd], ignore_index=True, sort=False)\n",
    "print(train_rd)"
   ]
  },
  {
   "cell_type": "markdown",
   "metadata": {},
   "source": [
    "###### train_data_rs csv file"
   ]
  },
  {
   "cell_type": "code",
   "execution_count": null,
   "metadata": {},
   "outputs": [],
   "source": [
    "train_rs = pd.concat([data, data_rs], ignore_index=True, sort=False)\n",
    "print(train_rd)"
   ]
  },
  {
   "cell_type": "markdown",
   "metadata": {},
   "source": [
    "###### train_data_ri csv file"
   ]
  },
  {
   "cell_type": "code",
   "execution_count": null,
   "metadata": {},
   "outputs": [],
   "source": [
    "train_ri = pd.concat([data, data_ra], ignore_index=True, sort=False)\n",
    "print(train_rd)"
   ]
  },
  {
   "cell_type": "code",
   "execution_count": null,
   "metadata": {},
   "outputs": [],
   "source": [
    "train_sr.to_csv('train_data_hs_sr.csv')"
   ]
  },
  {
   "cell_type": "code",
   "execution_count": null,
   "metadata": {},
   "outputs": [],
   "source": [
    "train_rd.to_csv('train_data_hs_rd.csv')"
   ]
  },
  {
   "cell_type": "code",
   "execution_count": null,
   "metadata": {},
   "outputs": [],
   "source": [
    "train_rs.to_csv('train_data_hs_rs.csv')"
   ]
  },
  {
   "cell_type": "code",
   "execution_count": null,
   "metadata": {},
   "outputs": [],
   "source": [
    "train_ri.to_csv('train_data_hs_ri.csv')"
   ]
  },
  {
   "cell_type": "markdown",
   "metadata": {},
   "source": [
    "###### train_data_sr_rs csv file"
   ]
  },
  {
   "cell_type": "code",
   "execution_count": null,
   "metadata": {},
   "outputs": [],
   "source": [
    "train_sr_rs = pd.concat([train_sr, data_rs], ignore_index=True, sort=False)\n",
    "print(train_sr_rs)"
   ]
  },
  {
   "cell_type": "markdown",
   "metadata": {},
   "source": [
    "###### train_data_sr_rd csv file"
   ]
  },
  {
   "cell_type": "code",
   "execution_count": null,
   "metadata": {},
   "outputs": [],
   "source": [
    "train_sr_rd = pd.concat([train_sr, data_rd], ignore_index=True, sort=False)\n",
    "print(train_sr_rd)"
   ]
  },
  {
   "cell_type": "markdown",
   "metadata": {},
   "source": [
    "###### train_data_sr_ri csv file"
   ]
  },
  {
   "cell_type": "code",
   "execution_count": null,
   "metadata": {},
   "outputs": [],
   "source": [
    "train_sr_ri = pd.concat([train_sr, data_ra], ignore_index=True, sort=False)\n",
    "print(train_sr_ri)"
   ]
  },
  {
   "cell_type": "code",
   "execution_count": null,
   "metadata": {},
   "outputs": [],
   "source": [
    "train_sr_rs.to_csv('train_data_hs_sr_rs.csv')"
   ]
  },
  {
   "cell_type": "code",
   "execution_count": null,
   "metadata": {},
   "outputs": [],
   "source": [
    "train_sr_rd.to_csv('train_data_hs_sr_rd.csv')"
   ]
  },
  {
   "cell_type": "code",
   "execution_count": null,
   "metadata": {},
   "outputs": [],
   "source": [
    "train_sr_ri.to_csv('train_data_hs_sr_ri.csv')"
   ]
  },
  {
   "cell_type": "markdown",
   "metadata": {},
   "source": [
    "###### train_data_rs_rd csv file"
   ]
  },
  {
   "cell_type": "code",
   "execution_count": null,
   "metadata": {},
   "outputs": [],
   "source": [
    "train_rs_rd = pd.concat([train_rs, data_rd], ignore_index=True, sort=False)\n",
    "print(train_rs_rd)"
   ]
  },
  {
   "cell_type": "markdown",
   "metadata": {},
   "source": [
    "###### train_data_rs_ri csv file"
   ]
  },
  {
   "cell_type": "code",
   "execution_count": null,
   "metadata": {},
   "outputs": [],
   "source": [
    "train_rs_ri = pd.concat([train_rs, data_ra], ignore_index=True, sort=False)\n",
    "print(train_rs_ri)"
   ]
  },
  {
   "cell_type": "markdown",
   "metadata": {},
   "source": [
    "###### train_data_rd_ri csv file"
   ]
  },
  {
   "cell_type": "code",
   "execution_count": null,
   "metadata": {},
   "outputs": [],
   "source": [
    "train_rd_ri = pd.concat([train_rd, data_ra], ignore_index=True, sort=False)\n",
    "print(train_rd_ri)"
   ]
  },
  {
   "cell_type": "code",
   "execution_count": null,
   "metadata": {},
   "outputs": [],
   "source": [
    "train_rs_rd.to_csv('train_data_hs_rs_rd.csv')\n",
    "train_rs_ri.to_csv('train_data_hs_rs_ri.csv')\n",
    "train_rd_ri.to_csv('train_data_hs_rd_ri.csv')"
   ]
  },
  {
   "cell_type": "markdown",
   "metadata": {},
   "source": [
    "###### train_data_sr_rs_rd csv file"
   ]
  },
  {
   "cell_type": "code",
   "execution_count": null,
   "metadata": {},
   "outputs": [],
   "source": [
    "train_sr_rs_rd = pd.concat([train_sr_rs, data_rd], ignore_index=True, sort=False)\n",
    "print(train_sr_rs_rd)"
   ]
  },
  {
   "cell_type": "markdown",
   "metadata": {},
   "source": [
    "###### train_data_sr_rs_ri csv file"
   ]
  },
  {
   "cell_type": "code",
   "execution_count": null,
   "metadata": {},
   "outputs": [],
   "source": [
    "train_sr_rs_ri = pd.concat([train_sr_rs, data_ra], ignore_index=True, sort=False)\n",
    "print(train_sr_rs_ri)"
   ]
  },
  {
   "cell_type": "markdown",
   "metadata": {},
   "source": [
    "###### train_data_sr_ri_rd csv file"
   ]
  },
  {
   "cell_type": "code",
   "execution_count": null,
   "metadata": {},
   "outputs": [],
   "source": [
    "train_sr_ri_rd = pd.concat([train_sr_ri, data_rd], ignore_index=True, sort=False)\n",
    "print(train_sr_ri_rd)"
   ]
  },
  {
   "cell_type": "markdown",
   "metadata": {},
   "source": [
    "###### train_data_ri_rs_rd csv file"
   ]
  },
  {
   "cell_type": "code",
   "execution_count": null,
   "metadata": {},
   "outputs": [],
   "source": [
    "train_ri_rs_rd = pd.concat([data_ra, train_rs_rd], ignore_index=True, sort=False)\n",
    "print(train_ri_rs_rd)"
   ]
  },
  {
   "cell_type": "code",
   "execution_count": null,
   "metadata": {},
   "outputs": [],
   "source": [
    "train_sr_rs_rd.to_csv('train_data_hs_sr_rs_rd.csv')\n",
    "train_sr_rs_ri.to_csv('train_data_hs_sr_rs_ri.csv')\n",
    "train_sr_ri_rd.to_csv('train_data_hs_sr_ri_rd.csv')\n",
    "train_ri_rs_rd.to_csv('train_data_hs_ri_rs_rd.csv')"
   ]
  },
  {
   "cell_type": "markdown",
   "metadata": {},
   "source": [
    "###### train_data_sr_rs_rd_ri csv file"
   ]
  },
  {
   "cell_type": "code",
   "execution_count": 43,
   "metadata": {},
   "outputs": [
    {
     "name": "stdout",
     "output_type": "stream",
     "text": [
      "       class                                              tweet\n",
      "0          0    I hate when faggots talk shit on here then b...\n",
      "1          1                                        Dumb bitch \n",
      "2          1                lets record a song bitch right nowb\n",
      "3          1     I m a joke having hoes ain t shit  I m just...\n",
      "4          2    It s not as easy as you d think to find an a...\n",
      "...      ...                                                ...\n",
      "84255      2  I suffering need tween to pick between two ope...\n",
      "84256      0  I angstrom unit feel like spade angstrom unit ...\n",
      "84257      0  yellow Horrible doorknocker rapperTyga Most tr...\n",
      "84258      1  Contrary to beliefus queers don t embody perve...\n",
      "84259      0  it means dike that dyke im comply dike dyke fo...\n",
      "\n",
      "[84260 rows x 2 columns]\n"
     ]
    }
   ],
   "source": [
    "train_sr_rs_rd_ri = pd.concat([train_sr_rs_rd, data_ra], ignore_index=True, sort=False)\n",
    "print(train_sr_rs_rd_ri)"
   ]
  },
  {
   "cell_type": "code",
   "execution_count": 45,
   "metadata": {},
   "outputs": [],
   "source": [
    "train_sr_rs_rd_ri.to_csv('train_data_hs_sr_rs_rd_ri.csv')"
   ]
  },
  {
   "cell_type": "code",
   "execution_count": 46,
   "metadata": {},
   "outputs": [
    {
     "name": "stdout",
     "output_type": "stream",
     "text": [
      "class\n",
      "0      973\n",
      "1    13020\n",
      "2     2859\n",
      "dtype: int64\n"
     ]
    }
   ],
   "source": [
    "frequency_df = data.groupby('class').size()\n",
    "print(frequency_df)"
   ]
  },
  {
   "cell_type": "code",
   "execution_count": 47,
   "metadata": {},
   "outputs": [
    {
     "name": "stdout",
     "output_type": "stream",
     "text": [
      "class\n",
      "0     1946\n",
      "1    26040\n",
      "2     5718\n",
      "dtype: int64\n"
     ]
    }
   ],
   "source": [
    "frequency_df_sr = train_sr.groupby('class').size()\n",
    "print(frequency_df_sr)"
   ]
  },
  {
   "cell_type": "code",
   "execution_count": 48,
   "metadata": {},
   "outputs": [
    {
     "name": "stdout",
     "output_type": "stream",
     "text": [
      "class\n",
      "0     2919\n",
      "1    39060\n",
      "2     8577\n",
      "dtype: int64\n"
     ]
    }
   ],
   "source": [
    "frequency_df_sr_rs = train_sr_rs.groupby('class').size()\n",
    "print(frequency_df_sr_rs)"
   ]
  },
  {
   "cell_type": "code",
   "execution_count": 49,
   "metadata": {},
   "outputs": [
    {
     "name": "stdout",
     "output_type": "stream",
     "text": [
      "class\n",
      "0     3892\n",
      "1    52080\n",
      "2    11436\n",
      "dtype: int64\n"
     ]
    }
   ],
   "source": [
    "frequency_df_sr_rs_rd = train_sr_rs_rd.groupby('class').size()\n",
    "print(frequency_df_sr_rs_rd)"
   ]
  },
  {
   "cell_type": "code",
   "execution_count": 50,
   "metadata": {},
   "outputs": [
    {
     "name": "stdout",
     "output_type": "stream",
     "text": [
      "class\n",
      "0     4865\n",
      "1    65100\n",
      "2    14295\n",
      "dtype: int64\n"
     ]
    }
   ],
   "source": [
    "frequency_df_sr_rs_rd_ri = train_sr_rs_rd_ri.groupby('class').size()\n",
    "print(frequency_df_sr_rs_rd_ri)"
   ]
  },
  {
   "cell_type": "code",
   "execution_count": 96,
   "metadata": {},
   "outputs": [],
   "source": [
    "data_exp=pd.read_csv('/Users/ethan/py3tf/project_nlp/train_data_sr_export.csv')"
   ]
  },
  {
   "cell_type": "code",
   "execution_count": 98,
   "metadata": {},
   "outputs": [
    {
     "data": {
      "text/plain": [
       "pandas.core.frame.DataFrame"
      ]
     },
     "execution_count": 98,
     "metadata": {},
     "output_type": "execute_result"
    }
   ],
   "source": [
    "type(data_exp)"
   ]
  },
  {
   "cell_type": "code",
   "execution_count": 99,
   "metadata": {},
   "outputs": [
    {
     "data": {
      "text/plain": [
       "pandas.core.frame.DataFrame"
      ]
     },
     "execution_count": 99,
     "metadata": {},
     "output_type": "execute_result"
    }
   ],
   "source": [
    "type(data)"
   ]
  },
  {
   "cell_type": "code",
   "execution_count": null,
   "metadata": {},
   "outputs": [],
   "source": []
  }
 ],
 "metadata": {
  "accelerator": "GPU",
  "colab": {
   "collapsed_sections": [],
   "name": "Text_classification_(LSTM).ipynb",
   "provenance": []
  },
  "kernelspec": {
   "display_name": "Python 3",
   "language": "python",
   "name": "python3"
  },
  "language_info": {
   "codemirror_mode": {
    "name": "ipython",
    "version": 3
   },
   "file_extension": ".py",
   "mimetype": "text/x-python",
   "name": "python",
   "nbconvert_exporter": "python",
   "pygments_lexer": "ipython3",
   "version": "3.7.4"
  }
 },
 "nbformat": 4,
 "nbformat_minor": 1
}
